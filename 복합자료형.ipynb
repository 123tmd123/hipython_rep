{
 "cells": [
  {
   "cell_type": "code",
   "execution_count": null,
   "id": "ffaf3228-3fd1-4897-9c78-d26a4d4f4d08",
   "metadata": {},
   "outputs": [],
   "source": []
  }
 ],
 "metadata": {
  "kernelspec": {
   "display_name": "",
   "name": ""
  },
  "language_info": {
   "name": ""
  }
 },
 "nbformat": 4,
 "nbformat_minor": 5
}
