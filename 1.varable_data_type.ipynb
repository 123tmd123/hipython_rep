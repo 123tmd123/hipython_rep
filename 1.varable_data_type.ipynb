{
 "cells": [
  {
   "cell_type": "code",
   "execution_count": 1,
   "id": "5406bacf-e3e4-4c1a-9341-d96593951428",
   "metadata": {},
   "outputs": [
    {
     "data": {
      "text/plain": [
       "(20, int)"
      ]
     },
     "execution_count": 1,
     "metadata": {},
     "output_type": "execute_result"
    }
   ],
   "source": [
    "#수치형 int\n",
    "20, type(20)\n",
    "(20,int)"
   ]
  },
  {
   "cell_type": "code",
   "execution_count": 3,
   "id": "459ed4fe-38b8-4fa0-818b-ad7b77f1fc44",
   "metadata": {},
   "outputs": [
    {
     "name": "stdout",
     "output_type": "stream",
     "text": [
      "홀홀홀\n"
     ]
    }
   ],
   "source": [
    "string = \"홀짝홀짝홀짝\"\n",
    "print(string[::2])"
   ]
  },
  {
   "cell_type": "code",
   "execution_count": 6,
   "id": "19132815-69d9-40d2-adf1-ae1ee639db83",
   "metadata": {},
   "outputs": [
    {
     "data": {
      "text/plain": [
       "(3.14, float)"
      ]
     },
     "execution_count": 6,
     "metadata": {},
     "output_type": "execute_result"
    }
   ],
   "source": [
    "#float \n",
    "b =3.14\n",
    "b, type(b)"
   ]
  },
  {
   "cell_type": "code",
   "execution_count": null,
   "id": "8a65dcf6-b8f4-480d-a07f-ed6a030717df",
   "metadata": {},
   "outputs": [],
   "source": [
    "#지수의 표기\n",
    "\n",
    "숫자 e2 = 10^2 = 10**\n",
    "숫자 e-2 => 10^-2 = 10**-2\n"
   ]
  },
  {
   "cell_type": "code",
   "execution_count": 84,
   "id": "6750cf07-5695-4c2f-aac3-0d4bcb88da2a",
   "metadata": {},
   "outputs": [
    {
     "data": {
      "text/plain": [
       "100.0"
      ]
     },
     "execution_count": 84,
     "metadata": {},
     "output_type": "execute_result"
    }
   ],
   "source": [
    "fa = 10e1\n",
    "fa\n",
    "#fc = 10e-2\n",
    "#fc"
   ]
  },
  {
   "cell_type": "code",
   "execution_count": 12,
   "id": "640219e8-e9de-48ae-b557-5a521441618c",
   "metadata": {
    "scrolled": true
   },
   "outputs": [
    {
     "data": {
      "text/plain": [
       "3141500000.0"
      ]
     },
     "execution_count": 12,
     "metadata": {},
     "output_type": "execute_result"
    }
   ],
   "source": [
    "fc =3.1415e9\n",
    "fc"
   ]
  },
  {
   "cell_type": "code",
   "execution_count": 14,
   "id": "a1b5eb35-f420-40a2-a8cd-4116ada0ae17",
   "metadata": {},
   "outputs": [],
   "source": [
    "#BOOLEAN = True, False\n",
    "#논리연산, 비교연산"
   ]
  },
  {
   "cell_type": "code",
   "execution_count": 22,
   "id": "5f302a77-2fa1-43ec-a8e8-30e038ee3ee3",
   "metadata": {},
   "outputs": [
    {
     "ename": "NameError",
     "evalue": "name 'true' is not defined",
     "output_type": "error",
     "traceback": [
      "\u001b[31m---------------------------------------------------------------------------\u001b[39m",
      "\u001b[31mNameError\u001b[39m                                 Traceback (most recent call last)",
      "\u001b[36mCell\u001b[39m\u001b[36m \u001b[39m\u001b[32mIn[22]\u001b[39m\u001b[32m, line 2\u001b[39m\n\u001b[32m      1\u001b[39m ba= \u001b[38;5;28;01mTrue\u001b[39;00m\n\u001b[32m----> \u001b[39m\u001b[32m2\u001b[39m bb= true\n\u001b[32m      3\u001b[39m \u001b[38;5;28mtype\u001b[39m(ba), \u001b[38;5;28mtype\u001b[39m(bb)\n",
      "\u001b[31mNameError\u001b[39m: name 'true' is not defined"
     ]
    }
   ],
   "source": [
    "ba= True\n",
    "bb= true\n",
    "type(ba), type(bb)"
   ]
  },
  {
   "cell_type": "code",
   "execution_count": 23,
   "id": "6a195d17-d6d8-4bec-a6ad-554b07688739",
   "metadata": {},
   "outputs": [
    {
     "data": {
      "text/plain": [
       "False"
      ]
     },
     "execution_count": 23,
     "metadata": {},
     "output_type": "execute_result"
    }
   ],
   "source": [
    "ba == \"True\""
   ]
  },
  {
   "cell_type": "code",
   "execution_count": 25,
   "id": "6f79dfb8-5b02-4cdc-be83-3e09c108b578",
   "metadata": {},
   "outputs": [
    {
     "data": {
      "text/plain": [
       "True"
      ]
     },
     "execution_count": 25,
     "metadata": {},
     "output_type": "execute_result"
    }
   ],
   "source": [
    "#and or not\n",
    "#사칙연산 + - * / // %\n",
    "bc = 1\n",
    "ba and bc\n",
    "ba or 0\n",
    "\n"
   ]
  },
  {
   "cell_type": "code",
   "execution_count": 28,
   "id": "39939a7b-78df-41f1-8910-e5e0a3ac4189",
   "metadata": {},
   "outputs": [
    {
     "data": {
      "text/plain": [
       "(0.6666666666666666, 0, 2)"
      ]
     },
     "execution_count": 28,
     "metadata": {},
     "output_type": "execute_result"
    }
   ],
   "source": [
    "a=2\n",
    "b=3\n",
    "a/b,a//b, a%b"
   ]
  },
  {
   "cell_type": "code",
   "execution_count": 29,
   "id": "08416278-6cbb-4eaa-bd42-7d0ea8ccac23",
   "metadata": {},
   "outputs": [
    {
     "data": {
      "text/plain": [
       "True"
      ]
     },
     "execution_count": 29,
     "metadata": {},
     "output_type": "execute_result"
    }
   ],
   "source": [
    "#비교 연산자\n",
    "1+2 ==3"
   ]
  },
  {
   "cell_type": "code",
   "execution_count": 30,
   "id": "e2986f26-8aee-4b6b-a7f2-03172cd59e32",
   "metadata": {
    "scrolled": true
   },
   "outputs": [
    {
     "data": {
      "text/plain": [
       "False"
      ]
     },
     "execution_count": 30,
     "metadata": {},
     "output_type": "execute_result"
    }
   ],
   "source": [
    "1+2 !=3"
   ]
  },
  {
   "cell_type": "code",
   "execution_count": 35,
   "id": "c55def27-ef64-40df-8ce7-75d52bf5836a",
   "metadata": {},
   "outputs": [
    {
     "data": {
      "text/plain": [
       "True"
      ]
     },
     "execution_count": 35,
     "metadata": {},
     "output_type": "execute_result"
    }
   ],
   "source": [
    "1+3<=4"
   ]
  },
  {
   "cell_type": "code",
   "execution_count": 38,
   "id": "97452848-4283-46a5-80d6-bee41c93dca5",
   "metadata": {
    "scrolled": true
   },
   "outputs": [
    {
     "data": {
      "text/plain": [
       "True"
      ]
     },
     "execution_count": 38,
     "metadata": {},
     "output_type": "execute_result"
    }
   ],
   "source": [
    "10%2 ==0 and 12%3 == 0 "
   ]
  },
  {
   "cell_type": "code",
   "execution_count": 39,
   "id": "e82a4286-7881-41c7-a03f-a1abd7ee561d",
   "metadata": {
    "scrolled": true
   },
   "outputs": [
    {
     "data": {
      "text/plain": [
       "('5678', 3, 2242812801936, 140713484560888)"
      ]
     },
     "execution_count": 39,
     "metadata": {},
     "output_type": "execute_result"
    }
   ],
   "source": [
    "a='1234'\n",
    "a='5678'\n",
    "a, b ,id(a),id(b)"
   ]
  },
  {
   "cell_type": "code",
   "execution_count": 40,
   "id": "b6a52378-51a2-4b46-9c9c-45ec9ea6b664",
   "metadata": {},
   "outputs": [
    {
     "data": {
      "text/plain": [
       "False"
      ]
     },
     "execution_count": 40,
     "metadata": {},
     "output_type": "execute_result"
    }
   ],
   "source": [
    "id(a) == id(b)"
   ]
  },
  {
   "cell_type": "code",
   "execution_count": 45,
   "id": "a67f1a99-98b7-4be5-9d9b-7bc9dc4737dc",
   "metadata": {},
   "outputs": [
    {
     "name": "stdout",
     "output_type": "stream",
     "text": [
      "21\n"
     ]
    }
   ],
   "source": [
    "a=20\n",
    "a+=1\n",
    "print(a)"
   ]
  },
  {
   "cell_type": "code",
   "execution_count": 46,
   "id": "9577a2b2-a7c0-4800-ac4c-ce08f66c7114",
   "metadata": {},
   "outputs": [
    {
     "name": "stdout",
     "output_type": "stream",
     "text": [
      "20\n"
     ]
    }
   ],
   "source": [
    "a-=1\n",
    "print(a)"
   ]
  },
  {
   "cell_type": "code",
   "execution_count": 52,
   "id": "e4cad1d1-e558-4bfc-80d1-b66020a51832",
   "metadata": {},
   "outputs": [
    {
     "data": {
      "text/plain": [
       "7"
      ]
     },
     "execution_count": 52,
     "metadata": {},
     "output_type": "execute_result"
    }
   ],
   "source": [
    "a =3 \n",
    "b =2\n",
    "a+=2 + b \n",
    "a"
   ]
  },
  {
   "cell_type": "markdown",
   "id": "7c42e738-f4b6-4cff-b4b9-b079acc337bb",
   "metadata": {},
   "source": [
    "'', \"\". \"\"\" \"\"\". ''' ''', docstring"
   ]
  },
  {
   "cell_type": "code",
   "execution_count": 54,
   "id": "bf48d7b7-3d2e-4f70-ba6c-913349ecb104",
   "metadata": {},
   "outputs": [
    {
     "data": {
      "text/plain": [
       "'hellopython'"
      ]
     },
     "execution_count": 54,
     "metadata": {},
     "output_type": "execute_result"
    }
   ],
   "source": [
    "a = 'hello'\n",
    "b = 'python'\n",
    "a+b"
   ]
  },
  {
   "cell_type": "code",
   "execution_count": 55,
   "id": "0f899571-afb1-489c-852d-0599dd6c28d3",
   "metadata": {},
   "outputs": [
    {
     "data": {
      "text/plain": [
       "'**********'"
      ]
     },
     "execution_count": 55,
     "metadata": {},
     "output_type": "execute_result"
    }
   ],
   "source": [
    "c = '*'\n",
    "c*10"
   ]
  },
  {
   "cell_type": "code",
   "execution_count": 56,
   "id": "897880c0-6a6b-486f-b187-d2cd45fb6d67",
   "metadata": {},
   "outputs": [
    {
     "data": {
      "text/plain": [
       "\"kim's family\""
      ]
     },
     "execution_count": 56,
     "metadata": {},
     "output_type": "execute_result"
    }
   ],
   "source": [
    "d = \"kim's family\"\n",
    "d"
   ]
  },
  {
   "cell_type": "code",
   "execution_count": 57,
   "id": "f4bd2970-0f66-4c5c-b217-c9be859ddd22",
   "metadata": {},
   "outputs": [
    {
     "data": {
      "text/plain": [
       "True"
      ]
     },
     "execution_count": 57,
     "metadata": {},
     "output_type": "execute_result"
    }
   ],
   "source": [
    "e = '1'\n",
    "e == '1'"
   ]
  },
  {
   "cell_type": "code",
   "execution_count": 73,
   "id": "28c81776-b84e-408b-a3ee-1b4b07e7e25b",
   "metadata": {},
   "outputs": [
    {
     "data": {
      "text/plain": [
       "'20010331Rabcd'"
      ]
     },
     "execution_count": 73,
     "metadata": {},
     "output_type": "execute_result"
    }
   ],
   "source": [
    "a = '20010331Rabcd'\n",
    "a"
   ]
  },
  {
   "cell_type": "code",
   "execution_count": 64,
   "id": "d978fa1f-7af8-4f07-bfe5-5377680df89e",
   "metadata": {},
   "outputs": [
    {
     "data": {
      "text/plain": [
       "'2001'"
      ]
     },
     "execution_count": 64,
     "metadata": {},
     "output_type": "execute_result"
    }
   ],
   "source": [
    "a[0:4]\n",
    "#영역 0부터 4개 가져와 / 슬라이스"
   ]
  },
  {
   "cell_type": "code",
   "execution_count": 67,
   "id": "5cb87c8e-d03f-494f-b3e3-0ebe66009d25",
   "metadata": {},
   "outputs": [
    {
     "data": {
      "text/plain": [
       "'Rab'"
      ]
     },
     "execution_count": 67,
     "metadata": {},
     "output_type": "execute_result"
    }
   ],
   "source": [
    "a[7:-2]"
   ]
  },
  {
   "cell_type": "code",
   "execution_count": 68,
   "id": "51ab0e03-bb5c-432e-a914-c64dacb179c7",
   "metadata": {
    "scrolled": true
   },
   "outputs": [
    {
     "data": {
      "text/plain": [
       "'2001'"
      ]
     },
     "execution_count": 68,
     "metadata": {},
     "output_type": "execute_result"
    }
   ],
   "source": [
    "#필요없는건 생략할 수 있다.\n",
    "a[:4]"
   ]
  },
  {
   "cell_type": "code",
   "execution_count": 75,
   "id": "8d6a0d2e-6eb7-4830-83de-7c97c83e587c",
   "metadata": {},
   "outputs": [
    {
     "data": {
      "text/plain": [
       "'abcd'"
      ]
     },
     "execution_count": 75,
     "metadata": {},
     "output_type": "execute_result"
    }
   ],
   "source": [
    "#필요없는건 생략할 수 있다.\n",
    "a[9:]"
   ]
  },
  {
   "cell_type": "code",
   "execution_count": 78,
   "id": "bf2e70f6-7eab-48e8-a0d9-a461d18fe50d",
   "metadata": {},
   "outputs": [
    {
     "data": {
      "text/plain": [
       "True"
      ]
     },
     "execution_count": 78,
     "metadata": {},
     "output_type": "execute_result"
    }
   ],
   "source": [
    "s='abc'\n",
    "a=s\n",
    "a is s"
   ]
  },
  {
   "cell_type": "code",
   "execution_count": 81,
   "id": "8666afed-6740-46bc-a5e2-1ecd14d49dcb",
   "metadata": {},
   "outputs": [
    {
     "data": {
      "text/plain": [
       "True"
      ]
     },
     "execution_count": 81,
     "metadata": {},
     "output_type": "execute_result"
    }
   ],
   "source": [
    "b= s[:]\n",
    "a is b"
   ]
  },
  {
   "cell_type": "code",
   "execution_count": 88,
   "id": "6bad367c-0121-4c1e-8564-310ff2ce449b",
   "metadata": {},
   "outputs": [
    {
     "data": {
      "text/plain": [
       "8"
      ]
     },
     "execution_count": 88,
     "metadata": {},
     "output_type": "execute_result"
    }
   ],
   "source": [
    "fg = 10^2\n",
    "fg"
   ]
  }
 ],
 "metadata": {
  "kernelspec": {
   "display_name": "Python 3 (ipykernel)",
   "language": "python",
   "name": "python3"
  },
  "language_info": {
   "codemirror_mode": {
    "name": "ipython",
    "version": 3
   },
   "file_extension": ".py",
   "mimetype": "text/x-python",
   "name": "python",
   "nbconvert_exporter": "python",
   "pygments_lexer": "ipython3",
   "version": "3.12.9"
  }
 },
 "nbformat": 4,
 "nbformat_minor": 5
}
